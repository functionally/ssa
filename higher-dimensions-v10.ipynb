{
 "cells": [
  {
   "cell_type": "markdown",
   "metadata": {},
   "source": [
    "# Higher Dimensional Datasets, version 10"
   ]
  },
  {
   "cell_type": "markdown",
   "metadata": {},
   "source": [
    "## Load packages."
   ]
  },
  {
   "cell_type": "code",
   "execution_count": 1,
   "metadata": {},
   "outputs": [
    {
     "name": "stderr",
     "output_type": "stream",
     "text": [
      "Loading required package: data.table\n",
      "Loading required package: deSolve\n",
      "Loading required package: magrittr\n",
      "Loading required package: randtoolbox\n",
      "Loading required package: rngWELL\n",
      "This is randtoolbox. For an overview, type 'help(\"randtoolbox\")'.\n"
     ]
    }
   ],
   "source": [
    "require(data.table)\n",
    "require(deSolve)\n",
    "require(magrittr)\n",
    "require(randtoolbox)"
   ]
  },
  {
   "cell_type": "markdown",
   "metadata": {},
   "source": [
    "## Function to generate simulations."
   ]
  },
  {
   "cell_type": "code",
   "execution_count": 2,
   "metadata": {},
   "outputs": [],
   "source": [
    "# Create a multivariate function with specified properties:\n",
    "#   tmax: maximum time\n",
    "#   multiplicities: number of correlations each parameter has\n",
    "#   degrees: polynomial degree of each parameter\n",
    "#   dimension: the dimension of the output\n",
    "#   returns a multivariate function of the vector of parameters and time\n",
    "makeGenerator <- function(multiplicities, degrees, dimension) {\n",
    "\n",
    "    single <- function(degree) {\n",
    "      x0 <- runif(1)\n",
    "      z0 <- runif(1)\n",
    "      function(x) {\n",
    "          if (x < x0)\n",
    "              0\n",
    "          else\n",
    "              z0 * (x - x0)^degree\n",
    "      }\n",
    "    }\n",
    "  \n",
    "    locations <- lapply(multiplicities, function(m) sample(1:dimension, m, replace=TRUE))\n",
    "    functions <- lapply(degrees, single)\n",
    "    \n",
    "    start <- runif(dimension, -0.25, 0.75)\n",
    "    coefs <- matrix(runif(dimension^2, -0.25, 0.75), dimension, dimension)    \n",
    "    shift <- matrix(runif(dimension^2, -0.25, 0.75), dimension, dimension)\n",
    "    \n",
    "    function(x, ts) {\n",
    "        z <- rep(0, dimension)\n",
    "        for (i in 1:length(locations))\n",
    "            for (j in locations[[i]])\n",
    "                z[j] <- z[j] + functions[[i]](x[i])\n",
    "        ode(start, ts, function(t, y, params) {list((coefs %*% y) * z * (1 - ((shift %*% y) * z)))})\n",
    "    }\n",
    "    \n",
    "}\n"
   ]
  },
  {
   "cell_type": "markdown",
   "metadata": {},
   "source": [
    "## Reproducible random numbers."
   ]
  },
  {
   "cell_type": "code",
   "execution_count": 3,
   "metadata": {},
   "outputs": [],
   "source": [
    "RNGkind(\"Mersenne-Twister\", \"Inversion\", \"Rejection\")"
   ]
  },
  {
   "cell_type": "code",
   "execution_count": 4,
   "metadata": {},
   "outputs": [],
   "source": [
    "set.seed(46)"
   ]
  },
  {
   "cell_type": "markdown",
   "metadata": {},
   "source": [
    "## Create and save timeseries."
   ]
  },
  {
   "cell_type": "code",
   "execution_count": 5,
   "metadata": {},
   "outputs": [],
   "source": [
    "n <- 10000"
   ]
  },
  {
   "cell_type": "code",
   "execution_count": 6,
   "metadata": {
    "scrolled": true
   },
   "outputs": [
    {
     "data": {
      "text/html": [
       "<ol class=list-inline>\n",
       "\t<li>0</li>\n",
       "\t<li>0.2</li>\n",
       "\t<li>0.4</li>\n",
       "\t<li>0.6</li>\n",
       "\t<li>0.8</li>\n",
       "\t<li>1</li>\n",
       "\t<li>1.2</li>\n",
       "\t<li>1.4</li>\n",
       "\t<li>1.6</li>\n",
       "\t<li>1.8</li>\n",
       "\t<li>2</li>\n",
       "\t<li>2.2</li>\n",
       "\t<li>2.4</li>\n",
       "\t<li>2.6</li>\n",
       "\t<li>2.8</li>\n",
       "\t<li>3</li>\n",
       "</ol>\n"
      ],
      "text/latex": [
       "\\begin{enumerate*}\n",
       "\\item 0\n",
       "\\item 0.2\n",
       "\\item 0.4\n",
       "\\item 0.6\n",
       "\\item 0.8\n",
       "\\item 1\n",
       "\\item 1.2\n",
       "\\item 1.4\n",
       "\\item 1.6\n",
       "\\item 1.8\n",
       "\\item 2\n",
       "\\item 2.2\n",
       "\\item 2.4\n",
       "\\item 2.6\n",
       "\\item 2.8\n",
       "\\item 3\n",
       "\\end{enumerate*}\n"
      ],
      "text/markdown": [
       "1. 0\n",
       "2. 0.2\n",
       "3. 0.4\n",
       "4. 0.6\n",
       "5. 0.8\n",
       "6. 1\n",
       "7. 1.2\n",
       "8. 1.4\n",
       "9. 1.6\n",
       "10. 1.8\n",
       "11. 2\n",
       "12. 2.2\n",
       "13. 2.4\n",
       "14. 2.6\n",
       "15. 2.8\n",
       "16. 3\n",
       "\n",
       "\n"
      ],
      "text/plain": [
       " [1] 0.0 0.2 0.4 0.6 0.8 1.0 1.2 1.4 1.6 1.8 2.0 2.2 2.4 2.6 2.8 3.0"
      ]
     },
     "metadata": {},
     "output_type": "display_data"
    }
   ],
   "source": [
    "ts <- seq(0, 3, 0.2)\n",
    "ts"
   ]
  },
  {
   "cell_type": "code",
   "execution_count": 7,
   "metadata": {},
   "outputs": [],
   "source": [
    "for (m in c(3, 20))\n",
    "    for (k in c(3, 20))\n",
    "        if (m != 3 || k != 3) {\n",
    "            f.multiplicities <- sample(1:5, m, replace=TRUE)\n",
    "            f.degrees <- sample(0:3, m, replace=TRUE)\n",
    "            f <- makeGenerator(f.multiplicities, f.degrees, k)\n",
    "            xs <- sobol(n, m)\n",
    "            colnames(xs) <- paste(\"x\", 1:m, sep=\"\")\n",
    "            rownames(xs) <- 1:n\n",
    "            ys <- NULL\n",
    "            for (i in 1:n) {\n",
    "                x <- xs[i, ]\n",
    "                if (m == 3)\n",
    "                    y <- f(x, 10 * ts)\n",
    "                else\n",
    "                    y <- f(x, ts)\n",
    "                ys <- rbind(ys, data.table(case=i, y))\n",
    "            }\n",
    "            xs <- data.table(case = 1:n, xs)\n",
    "            colnames(ys) <- c(\"case\", \"time\", paste(\"y\", 1:k, sep=\"\"))\n",
    "            write.table(xs, file=paste(\"xs-\", m, \"x\", k, \"-v10.csv\", sep=\"\"), sep=\",\", quote=FALSE, row.names=FALSE)\n",
    "            write.table(ys, file=paste(\"ys-\", m, \"x\", k, \"-v10.csv\", sep=\"\"), sep=\",\", quote=FALSE, row.names=FALSE)\n",
    "        }"
   ]
  },
  {
   "cell_type": "code",
   "execution_count": 8,
   "metadata": {},
   "outputs": [
    {
     "data": {
      "text/plain": [
       "      case            time            y1                y2         \n",
       " Min.   :    1   Min.   : 0.0   Min.   :-0.2229   Min.   :0.02939  \n",
       " 1st Qu.: 2501   1st Qu.: 7.5   1st Qu.:-0.2229   1st Qu.:0.02939  \n",
       " Median : 5000   Median :15.0   Median :-0.2229   Median :0.02939  \n",
       " Mean   : 5000   Mean   :15.0   Mean   :-0.2229   Mean   :0.02939  \n",
       " 3rd Qu.: 7500   3rd Qu.:22.5   3rd Qu.:-0.2229   3rd Qu.:0.02939  \n",
       " Max.   :10000   Max.   :30.0   Max.   :-0.2229   Max.   :0.02939  \n",
       "       y3               y4                y5               y6        \n",
       " Min.   :0.1046   Min.   :-0.1258   Min.   :0.1668   Min.   :0.1705  \n",
       " 1st Qu.:0.1046   1st Qu.:-0.1258   1st Qu.:0.1668   1st Qu.:0.1705  \n",
       " Median :0.1046   Median :-0.1258   Median :0.1668   Median :0.1705  \n",
       " Mean   :0.1046   Mean   :-0.1258   Mean   :0.1668   Mean   :0.1709  \n",
       " 3rd Qu.:0.1046   3rd Qu.:-0.1258   3rd Qu.:0.1668   3rd Qu.:0.1705  \n",
       " Max.   :0.1046   Max.   :-0.1258   Max.   :0.1668   Max.   :0.3275  \n",
       "       y7                 y8               y9              y10        \n",
       " Min.   :-0.07119   Min.   :0.5788   Min.   :0.2749   Min.   :0.7372  \n",
       " 1st Qu.:-0.07119   1st Qu.:0.5788   1st Qu.:0.2749   1st Qu.:0.7372  \n",
       " Median :-0.07119   Median :0.5788   Median :0.2749   Median :0.7372  \n",
       " Mean   :-0.07096   Mean   :0.5788   Mean   :0.4511   Mean   :0.7372  \n",
       " 3rd Qu.:-0.07119   3rd Qu.:0.5788   3rd Qu.:0.3791   3rd Qu.:0.7372  \n",
       " Max.   : 0.02512   Max.   :0.5788   Max.   :3.0931   Max.   :0.7372  \n",
       "      y11              y12               y13               y14        \n",
       " Min.   :0.4623   Min.   :0.04645   Min.   :0.09504   Min.   :0.2806  \n",
       " 1st Qu.:0.4623   1st Qu.:0.04645   1st Qu.:0.09504   1st Qu.:0.2806  \n",
       " Median :0.4623   Median :0.04645   Median :0.09504   Median :0.2806  \n",
       " Mean   :0.4623   Mean   :0.04676   Mean   :0.09504   Mean   :0.2811  \n",
       " 3rd Qu.:0.4623   3rd Qu.:0.04645   3rd Qu.:0.09504   3rd Qu.:0.2806  \n",
       " Max.   :0.4623   Max.   :0.14906   Max.   :0.09504   Max.   :0.3003  \n",
       "      y15              y16              y17              y18          \n",
       " Min.   :0.4125   Min.   :0.2917   Min.   :0.0911   Min.   :-0.02132  \n",
       " 1st Qu.:0.4125   1st Qu.:0.2917   1st Qu.:0.0911   1st Qu.:-0.02132  \n",
       " Median :0.4125   Median :0.2917   Median :0.0911   Median :-0.02132  \n",
       " Mean   :0.4125   Mean   :0.2917   Mean   :0.0911   Mean   :-0.02132  \n",
       " 3rd Qu.:0.4125   3rd Qu.:0.2917   3rd Qu.:0.0911   3rd Qu.:-0.02132  \n",
       " Max.   :0.4125   Max.   :0.2917   Max.   :0.0911   Max.   :-0.02132  \n",
       "      y19                y20        \n",
       " Min.   :-0.03287   Min.   :0.5407  \n",
       " 1st Qu.:-0.03287   1st Qu.:0.5407  \n",
       " Median :-0.03287   Median :0.5407  \n",
       " Mean   :-0.03287   Mean   :0.6351  \n",
       " 3rd Qu.:-0.03287   3rd Qu.:0.5818  \n",
       " Max.   :-0.03287   Max.   :2.5931  "
      ]
     },
     "metadata": {},
     "output_type": "display_data"
    }
   ],
   "source": [
    "fread(\"ys-3x20-v10.csv\") %>% summary"
   ]
  },
  {
   "cell_type": "code",
   "execution_count": 9,
   "metadata": {},
   "outputs": [
    {
     "data": {
      "text/plain": [
       "      case            time            y1               y2        \n",
       " Min.   :    1   Min.   :0.00   Min.   :0.4993   Min.   :0.4195  \n",
       " 1st Qu.: 2501   1st Qu.:0.75   1st Qu.:0.6134   1st Qu.:0.5818  \n",
       " Median : 5000   Median :1.50   Median :0.8127   Median :0.8661  \n",
       " Mean   : 5000   Mean   :1.50   Mean   :0.9544   Mean   :0.9165  \n",
       " 3rd Qu.: 7500   3rd Qu.:2.25   3rd Qu.:1.1833   3rd Qu.:1.2168  \n",
       " Max.   :10000   Max.   :3.00   Max.   :2.9487   Max.   :1.9985  \n",
       "       y3          \n",
       " Min.   :-1.00688  \n",
       " 1st Qu.: 0.02767  \n",
       " Median : 0.10449  \n",
       " Mean   : 0.06336  \n",
       " 3rd Qu.: 0.14834  \n",
       " Max.   : 0.52410  "
      ]
     },
     "metadata": {},
     "output_type": "display_data"
    }
   ],
   "source": [
    "fread(\"ys-20x3-v10.csv\") %>% summary"
   ]
  },
  {
   "cell_type": "code",
   "execution_count": 10,
   "metadata": {},
   "outputs": [
    {
     "data": {
      "text/plain": [
       "      case            time            y1                 y2          \n",
       " Min.   :    1   Min.   :0.00   Min.   :-11.1354   Min.   :-3.99301  \n",
       " 1st Qu.: 2501   1st Qu.:0.75   1st Qu.:  0.2260   1st Qu.:-0.91340  \n",
       " Median : 5000   Median :1.50   Median :  0.3583   Median :-0.41890  \n",
       " Mean   : 5000   Mean   :1.50   Mean   :  0.3625   Mean   :-0.48365  \n",
       " 3rd Qu.: 7500   3rd Qu.:2.25   3rd Qu.:  0.4959   3rd Qu.: 0.06929  \n",
       " Max.   :10000   Max.   :3.00   Max.   :  2.0042   Max.   : 2.49500  \n",
       "       y3               y4                y5                  y6          \n",
       " Min.   :0.5752   Min.   :-4.0103   Min.   :-0.372126   Min.   :-6.16373  \n",
       " 1st Qu.:0.6035   1st Qu.: 0.4131   1st Qu.:-0.098232   1st Qu.:-0.57257  \n",
       " Median :0.6217   Median : 0.5349   Median : 0.003534   Median :-0.01752  \n",
       " Mean   :0.7131   Mean   : 0.5122   Mean   : 0.052012   Mean   :-0.34768  \n",
       " 3rd Qu.:0.7603   3rd Qu.: 0.7352   3rd Qu.: 0.167168   3rd Qu.: 0.08266  \n",
       " Max.   :1.6130   Max.   :26.6816   Max.   : 0.809911   Max.   : 2.23750  \n",
       "       y7               y8                 y9               y10        \n",
       " Min.   :0.4848   Min.   :-0.24560   Min.   :-3.2654   Min.   :0.5720  \n",
       " 1st Qu.:0.4848   1st Qu.:-0.20817   1st Qu.: 0.3487   1st Qu.:0.5720  \n",
       " Median :0.4848   Median :-0.02356   Median : 0.4815   Median :0.5869  \n",
       " Mean   :0.5243   Mean   : 0.15453   Mean   : 0.5258   Mean   :0.6743  \n",
       " 3rd Qu.:0.5094   3rd Qu.: 0.34993   3rd Qu.: 0.6762   3rd Qu.:0.6825  \n",
       " Max.   :1.3364   Max.   : 4.56972   Max.   : 1.3579   Max.   :2.0605  \n",
       "      y11               y12              y13                y14          \n",
       " Min.   :-2.4188   Min.   :0.1320   Min.   :-0.24258   Min.   :-4.06566  \n",
       " 1st Qu.: 0.5490   1st Qu.:0.1320   1st Qu.:-0.01273   1st Qu.: 0.04867  \n",
       " Median : 0.7178   Median :0.1320   Median :-0.01273   Median : 0.17727  \n",
       " Mean   : 0.7117   Mean   :0.1381   Mean   : 0.06004   Mean   : 0.30154  \n",
       " 3rd Qu.: 0.8412   3rd Qu.:0.1354   3rd Qu.: 0.09370   3rd Qu.: 0.48671  \n",
       " Max.   : 5.0888   Max.   :0.2896   Max.   : 0.77432   Max.   : 1.83772  \n",
       "      y15              y16               y17                y18        \n",
       " Min.   :0.1428   Min.   :-2.9651   Min.   :-0.63421   Min.   :0.2926  \n",
       " 1st Qu.:0.1447   1st Qu.:-0.2468   1st Qu.: 0.05400   1st Qu.:0.3333  \n",
       " Median :0.1905   Median :-0.2113   Median : 0.08051   Median :0.4319  \n",
       " Mean   :0.2784   Mean   :-0.2694   Mean   : 0.09200   Mean   :0.4785  \n",
       " 3rd Qu.:0.3495   3rd Qu.:-0.1137   3rd Qu.: 0.10599   3rd Qu.:0.5804  \n",
       " Max.   :1.5073   Max.   : 0.3458   Max.   : 0.44155   Max.   :1.6578  \n",
       "      y19               y20          \n",
       " Min.   :-1.1064   Min.   :-0.01253  \n",
       " 1st Qu.: 0.2657   1st Qu.: 0.13335  \n",
       " Median : 0.4146   Median : 0.19258  \n",
       " Mean   : 0.3399   Mean   : 0.27743  \n",
       " 3rd Qu.: 0.4431   3rd Qu.: 0.39444  \n",
       " Max.   : 3.2463   Max.   : 1.84681  "
      ]
     },
     "metadata": {},
     "output_type": "display_data"
    }
   ],
   "source": [
    "fread(\"ys-20x20-v10.csv\") %>% summary"
   ]
  }
 ],
 "metadata": {
  "kernelspec": {
   "display_name": "R",
   "language": "R",
   "name": "ir"
  },
  "language_info": {
   "codemirror_mode": "r",
   "file_extension": ".r",
   "mimetype": "text/x-r-source",
   "name": "R",
   "pygments_lexer": "r",
   "version": "3.6.1"
  }
 },
 "nbformat": 4,
 "nbformat_minor": 2
}
